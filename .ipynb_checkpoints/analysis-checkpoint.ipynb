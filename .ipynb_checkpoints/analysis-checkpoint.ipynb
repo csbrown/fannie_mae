{
 "cells": [
  {
   "cell_type": "code",
   "execution_count": 1,
   "metadata": {
    "collapsed": false
   },
   "outputs": [],
   "source": [
    "import zipfile\n",
    "import pandas as pd\n",
    "import itertools\n",
    "import os.path\n",
    "from progress_bar import ProgressBar\n",
    "import numpy as np\n",
    "import distance_correlation.distcorr\n",
    "reload(distance_correlation.distcorr)\n",
    "from distance_correlation.distcorr import distcorr_mem_efficient as distcorr\n"
   ]
  },
  {
   "cell_type": "code",
   "execution_count": 2,
   "metadata": {
    "collapsed": false
   },
   "outputs": [],
   "source": [
    "#################### CONSTANTS\n",
    "# The headers aren't in the file.\n",
    "HEADER = (\"LOAN_ID\", \"Monthly.Rpt.Prd\", \"Servicer.Name\", \"LAST_RT\", \"LAST_UPB\", \"Loan.Age\", \"Months.To.Legal.Mat\",\n",
    "    \"Adj.Month.To.Mat\", \"Maturity.Date\", \"MSA\", \"Delq.Status\", \"MOD_FLAG\", \"Zero.Bal.Code\", \n",
    "    \"ZB_DTE\", \"LPI_DTE\", \"FCC_DTE\",\"DISP_DT\", \"FCC_COST\", \"PP_COST\", \"AR_COST\", \"IE_COST\", \"TAX_COST\", \"NS_PROCS\",\n",
    "    \"CE_PROCS\", \"RMW_PROCS\", \"O_PROCS\", \"NON_INT_UPB\", \"PRIN_FORG_UPB\", \"REPCH_FLAG\")\n",
    "TYPES = (np.str_, np.str_, np.str_, np.float64, np.float64, \n",
    "    np.float64, np.float64, np.float64, np.str_, np.str_, np.str_, np.str_, np.str_, \n",
    "    np.str_, np.str_, np.str_, np.str_, np.float64, np.float64, np.float64, np.float64, \n",
    "    np.float64, np.float64, np.float64, np.float64, np.float64, np.float64, np.float64, np.str_)\n",
    "FIELDS_OF_INTEREST = [\"LOAN_ID\", \"Monthly.Rpt.Prd\", \"Loan.Age\", \"Months.To.Legal.Mat\", \"Delq.Status\", \"MSA\"]\n",
    "DATE_COLUMNS = [1,8,13,14,15,16,17]\n",
    "CONVERTERS = {HEADER[i]:TYPES[i] for i in range(len(HEADER))}\n",
    "\n",
    "SEP = \"|\" # The csv divider\n",
    "\n",
    "DATA_DIRECTORY = \"performance_data\"\n",
    "DATA_FILE_TEMPLATE = \"Performance_{}Q{}.txt\"\n",
    "ZIP_FILE_TEMPLATE = \"{}Q{}.zip\"\n",
    "\n",
    "QUARTERS = list(itertools.product(range(2000,2016), range(1,5)))[:-1] #2015 Q4 doesn't exist"
   ]
  },
  {
   "cell_type": "code",
   "execution_count": 3,
   "metadata": {
    "collapsed": false
   },
   "outputs": [],
   "source": [
    "def read_zipped_data(year, quarter):\n",
    "    # a function for reading the data from the zipped files\n",
    "    zf = os.path.join(DATA_DIRECTORY, ZIP_FILE_TEMPLATE.format(year, quarter))\n",
    "    df = DATA_FILE_TEMPLATE.format(year, quarter)\n",
    "    with zipfile.ZipFile(zf).open(df, 'r') as f:\n",
    "        data = pd.read_csv(f, sep=SEP, names=HEADER, dtype=CONVERTERS)#, parse_dates=DATE_COLUMNS, infer_datetime_format=True)\n",
    "    return data"
   ]
  },
  {
   "cell_type": "code",
   "execution_count": 4,
   "metadata": {
    "collapsed": false
   },
   "outputs": [],
   "source": [
    "def pairwise(series):\n",
    "    # returns an iterator of the rows, pairwise\n",
    "    return itertools.combinations(series.iteritems(),2)\n",
    "\n",
    "def delq_dc_pairwise(data):\n",
    "    if len(data) < 10:\n",
    "        return 0\n",
    "    X = []\n",
    "    Y = []\n",
    "    for x,y in pairwise(data.head(n=20)):\n",
    "        X.append(x[1])\n",
    "        Y.append(y[1])\n",
    "    return distcorr(X,Y)"
   ]
  },
  {
   "cell_type": "code",
   "execution_count": 5,
   "metadata": {
    "collapsed": true
   },
   "outputs": [],
   "source": [
    "# We want to perform a distance correlation... \n",
    "# Should X be the set of observations in some MSA \n",
    "#   at time T and y is T?\n",
    "# Should X be a single observation over all of its available times, Y is some other observation in the same MSA?\n",
    "# Should an (x,y) observation be pairwise loans at a single time T?  \n",
    "#   Would it make sense to agglomerate those over all T in a particular MSA?... This actually gives a new time\n",
    "#   series D_t of distance correlations over time.  We can take meaningful averages and whatnot...\n",
    "#   this takes up a boatcrap of time and space though.... pairwise is n**2, then DC is n**2 as well...\n",
    "#   mebbe is feasible for small MSA and short time frames, tho.\n",
    "# "
   ]
  },
  {
   "cell_type": "code",
   "execution_count": 6,
   "metadata": {
    "collapsed": false
   },
   "outputs": [],
   "source": [
    "one_quarter_data = read_zipped_data(*QUARTERS[0])[[\"MSA\",\"Monthly.Rpt.Prd\",\"Delq.Status\"]]\n",
    "one_quarter_data = one_quarter_data[~one_quarter_data['Delq.Status'].astype(str).isin(['X'])]\n",
    "one_quarter_data['Delq.Status'] = pd.to_numeric(one_quarter_data['Delq.Status'])"
   ]
  },
  {
   "cell_type": "code",
   "execution_count": null,
   "metadata": {
    "collapsed": true
   },
   "outputs": [],
   "source": [
    "grouped = one_quarter_data.groupby(by=[\"MSA\",\"Monthly.Rpt.Prd\"])"
   ]
  },
  {
   "cell_type": "code",
   "execution_count": null,
   "metadata": {
    "collapsed": false
   },
   "outputs": [
    {
     "name": "stdout",
     "output_type": "stream",
     "text": [
      " \r",
      "[*                 3%                  ]  5 of 190 complete"
     ]
    }
   ],
   "source": [
    "dc_time_series_by_MSA = grouped.aggregate(delq_dc_pairwise)"
   ]
  },
  {
   "cell_type": "code",
   "execution_count": null,
   "metadata": {
    "collapsed": true
   },
   "outputs": [],
   "source": [
    "# BUILD a big dataframe... this is too slow and too hungry\n",
    "'''\n",
    "data = pd.DataFrame()\n",
    "i=0\n",
    "pbar = ProgressBar(len(QUARTERS))\n",
    "for year, quarter in QUARTERS:\n",
    "    pbar.animate(i)\n",
    "    data = data.append(read_zipped_data(year, quarter), ignore_index=True)\n",
    "    i += 1\n",
    "'''"
   ]
  }
 ],
 "metadata": {
  "kernelspec": {
   "display_name": "Python 2",
   "language": "python",
   "name": "python2"
  },
  "language_info": {
   "codemirror_mode": {
    "name": "ipython",
    "version": 2
   },
   "file_extension": ".py",
   "mimetype": "text/x-python",
   "name": "python",
   "nbconvert_exporter": "python",
   "pygments_lexer": "ipython2",
   "version": "2.7.12"
  }
 },
 "nbformat": 4,
 "nbformat_minor": 1
}
